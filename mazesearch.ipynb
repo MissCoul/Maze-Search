{
 "cells": [
  {
   "cell_type": "code",
   "execution_count": 1,
   "id": "3d24f071",
   "metadata": {},
   "outputs": [],
   "source": [
    "import argparse\n",
    "import heapq\n",
    "import time\n",
    "from search import astar_search, depth_first_graph_search, Problem\n",
    "from search import compare_searchers"
   ]
  },
  {
   "cell_type": "code",
   "execution_count": 2,
   "id": "73666dbb",
   "metadata": {},
   "outputs": [],
   "source": [
    "# Define the state representation (x, y)\n",
    "# Define the maze layout, start position (S), and goal position (G)\n",
    "maze = []\n",
    "start = (0, 0)\n",
    "goal = (0, 0)"
   ]
  },
  {
   "cell_type": "code",
   "execution_count": 3,
   "id": "da978a3e",
   "metadata": {},
   "outputs": [],
   "source": [
    "# Define the transition model\n",
    "def get_neighbors(state):\n",
    "    x, y = state\n",
    "    neighbors = []\n",
    "    if x > 0 and maze[x - 1][y] != '%':\n",
    "        neighbors.append((x - 1, y))  # Move up\n",
    "    if x < len(maze) - 1 and maze[x + 1][y] != '%':\n",
    "        neighbors.append((x + 1, y))  # Move down\n",
    "    if y > 0 and maze[x][y - 1] != '%':\n",
    "        neighbors.append((x, y - 1))  # Move left\n",
    "    if y < len(maze[0]) - 1 and maze[x][y + 1] != '%':\n",
    "        neighbors.append((x, y + 1))  # Move right\n",
    "    return neighbors"
   ]
  },
  {
   "cell_type": "code",
   "execution_count": 4,
   "id": "86aafd2d",
   "metadata": {},
   "outputs": [],
   "source": [
    "# Define the goal test\n",
    "def is_goal(state):\n",
    "    return state == goal"
   ]
  },
  {
   "cell_type": "code",
   "execution_count": 5,
   "id": "3c60be1b",
   "metadata": {},
   "outputs": [],
   "source": [
    "# Define the heuristic function for A* Search (Manhattan distance)\n",
    "def heuristic(state):\n",
    "    return abs(state[0] - goal[0]) + abs(state[1] - goal[1])"
   ]
  },
  {
   "cell_type": "code",
   "execution_count": 6,
   "id": "7679b3bd",
   "metadata": {},
   "outputs": [],
   "source": [
    "# Define the Depth-First Search (DFS) algorithm\n",
    "def depth_first_search(current_state):\n",
    "    visited.add(current_state)\n",
    "    if current_state == goal:\n",
    "        return True  # Path found\n",
    "    for neighbor in get_neighbors(current_state):\n",
    "        if neighbor not in visited:\n",
    "            if depth_first_search(neighbor):\n",
    "                path.append(neighbor)  # Store the path for visualization\n",
    "                return True\n",
    "    return False  # No path found"
   ]
  },
  {
   "cell_type": "code",
   "execution_count": 7,
   "id": "2f041b76",
   "metadata": {},
   "outputs": [],
   "source": [
    "# Define the A* search algorithm\n",
    "def a_star_search():\n",
    "    visited = set()\n",
    "    frontier = [(0 + heuristic(start), 0, start)]  # (priority, cost, state)\n",
    "    came_from = {}  # Store the path for visualization\n",
    "    while frontier:\n",
    "        _, cost, current_state = heapq.heappop(frontier)\n",
    "        if current_state in visited:\n",
    "            continue\n",
    "        visited.add(current_state)\n",
    "        if current_state == goal:\n",
    "            # Reconstruct the path for visualization\n",
    "            path = []\n",
    "            while current_state in came_from:\n",
    "                path.append(current_state)\n",
    "                current_state = came_from[current_state]\n",
    "            path.reverse()\n",
    "\n",
    "            # Print the maze with the path marked by \"x\" characters\n",
    "            for x, y in path:\n",
    "                maze[x][y] = 'x'\n",
    "\n",
    "            return cost  # Path cost\n",
    "        for neighbor in get_neighbors(current_state):\n",
    "            if neighbor not in visited:\n",
    "                neighbor_cost = cost + 1  # Uniform cost\n",
    "                priority = neighbor_cost + heuristic(neighbor)\n",
    "                heapq.heappush(frontier, (priority, neighbor_cost, neighbor))\n",
    "                came_from[neighbor] = current_state  # Store the path\n",
    "    return None  # No path found"
   ]
  },
  {
   "cell_type": "code",
   "execution_count": 8,
   "id": "6d2fd55c",
   "metadata": {},
   "outputs": [
    {
     "name": "stdout",
     "output_type": "stream",
     "text": [
      "%%%%%%%%%%%%%%%%%%%%%%%%%%%%%%%%%%%%%%%%%%%%%%%%%%%%%%%%%%%%%\n",
      "%     %xxxxxxx%xxxxxxxxxxxxx%         %     %           %   %\n",
      "%%% %%%x%%%%%xxx%%%%% %%%%%x%%% %%%%%%% % %%% %%%%%%%%%%% %%%\n",
      "%   %xxx%     %   % %   % %xxx%         %          % % %    %\n",
      "% %%%x%%% %%% %%% % %%% % %%%x% %%%%%% %%%%% %%%%% % % %%%% %\n",
      "% %xxx% %   % %   %   % % % %x%     %        %   % % %      %\n",
      "%xxx%%% % % % % % % % %%% % %x% %%% % %%%% % %%% % % %% % % %\n",
      "%x%   %   % %   %   % %   % %xxx  % % %  % %     % %  %%% % %\n",
      "%x%%%%%%% % % %%% %%% %%%   %%%x%%% % % %% %%%%% %%%% % % % %\n",
      "%x  %   % %       % % %   % % %xx%  % %  %    %     %   % % %\n",
      "%x% %%% % %%%%%%%%% % % %%% % % x% %% %% % %%%%%%%%%%% %%%% %\n",
      "%x%   % %   %xxxxxxx%%% %     % x%    %  %      %           %\n",
      "%x% %%% %%%%%x%%%%%xxx% %%%%%%%%x%%% %%% % %% %%% %%%%%%% % %\n",
      "%x%   %  xxxxx%     %xxx%    xxxx%     % %  %   %     %   % %\n",
      "%x%%%%%%%x%%%%% %%%%% %x%%%%%x%%%%%%%%%% % %%%%%% %%% %%% % %\n",
      "%x% %  xxx%     %   % %xxxxxxx      %    %    %   %     % % %\n",
      "%x  %%%x%%% %%%%%%% %%%%% %%%%%%% %%% %% %%%  % %%% %%% %%% %\n",
      "%x%   %x  %       % %     %            %   %    %     %   % %\n",
      "%x%%%%%x% %%%%%%% %%%%%%% %%%%%%%% %%% % %%%%%% % % %%%%% % %\n",
      "%S%   xx%   %     %       %   %    %   %        % % %   % % %\n",
      "%%%%%%x%% % % %%%%% %%%%% %%% % %%%% %%%%%%%%%%%%%%%% %%% % %\n",
      "%xxxxxx   % %           %     %           %           %     %\n",
      "%%%%%%%%%%%%%%%%%%%%%%%%%%%%%%%%%%%%%%%%%%%%%%%%%%%%%%%%%%%%%\n",
      "Path found using A* Search. Cost: 110\n",
      "Execution Time: 0.0005 seconds\n"
     ]
    }
   ],
   "source": [
    "\n",
    "\n",
    "\n",
    "# Define the main function to read the maze from a file and solve it\n",
    "def main():\n",
    "    global start, goal  # Declare start and goal as global variables\n",
    "    maze_file = 'Maze1.txt'  # Replace with the path to your maze file\n",
    "    with open(maze_file, 'r') as file:\n",
    "        for line in file:\n",
    "            row = list(line.strip())\n",
    "            maze.append(row)\n",
    "            if 'S' in row:\n",
    "                start = (len(maze) - 1, row.index('S'))\n",
    "            if 'G' in row:\n",
    "                goal = (len(maze) - 1, row.index('G'))\n",
    "\n",
    "    # Solve the maze using A* Search\n",
    "    start_time = time.time()\n",
    "    cost = a_star_search()\n",
    "    end_time = time.time()\n",
    "\n",
    "    if cost is not None:\n",
    "        # Print the maze with the path marked by \"x\" characters\n",
    "        for row in maze:\n",
    "            print(''.join(row))\n",
    "        print(f\"Path found using A* Search. Cost: {cost}\")\n",
    "        print(f\"Execution Time: {end_time - start_time:.4f} seconds\")\n",
    "    else:\n",
    "        print(\"No path found.\")\n",
    "\n",
    "if __name__ == '__main__':\n",
    "    main()\n"
   ]
  },
  {
   "cell_type": "code",
   "execution_count": 9,
   "id": "b3d5eeff",
   "metadata": {},
   "outputs": [
    {
     "name": "stdout",
     "output_type": "stream",
     "text": [
      "%%%%%%%%%%%%%%%%%%%%%%%%%%%%%%%%%%%%%%%%%%%%%%%%%%%%%%%%%%%%%\n",
      "%     %xxxxxxx%xxxxxxxxxxxxx%         %     %           %   %\n",
      "%%% %%%x%%%%%xxx%%%%% %%%%%x%%% %%%%%%% % %%% %%%%%%%%%%% %%%\n",
      "%   %xxx%     %   % %   % %xxx%         %          % % %    %\n",
      "% %%%x%%% %%% %%% % %%% % %%%x% %%%%%% %%%%% %%%%% % % %%%% %\n",
      "% %xxx% %   % %   %   % % % %x%     %        %   % % %      %\n",
      "%xxx%%% % % % % % % % %%% % %x% %%% % %%%% % %%% % % %% % % %\n",
      "%x%   %   % %   %   % %   % %xxx  % % %  % %     % %  %%% % %\n",
      "%x%%%%%%% % % %%% %%% %%%   %%%x%%% % % %% %%%%% %%%% % % % %\n",
      "%x  %   % %       % % %   % % %xx%  % %  %    %     %   % % %\n",
      "%x% %%% % %%%%%%%%% % % %%% % % x% %% %% % %%%%%%%%%%% %%%% %\n",
      "%x%   % %   %xxxxxxx%%% %     % x%    %  %      %           %\n",
      "%x% %%% %%%%%x%%%%%xxx% %%%%%%%%x%%% %%% % %% %%% %%%%%%% % %\n",
      "%x%   %  xxxxx%     %xxx%    xxxx%     % %  %   %     %   % %\n",
      "%x%%%%%%%x%%%%% %%%%% %x%%%%%x%%%%%%%%%% % %%%%%% %%% %%% % %\n",
      "%x% %  xxx%     %   % %xxxxxxx      %    %    %   %     % % %\n",
      "%x  %%%x%%% %%%%%%% %%%%% %%%%%%% %%% %% %%%  % %%% %%% %%% %\n",
      "%x%   %x  %       % %     %            %   %    %     %   % %\n",
      "%x%%%%%x% %%%%%%% %%%%%%% %%%%%%%% %%% % %%%%%% % % %%%%% % %\n",
      "%S%   xx%   %     %       %   %    %   %        % % %   % % %\n",
      "%%%%%%x%% % % %%%%% %%%%% %%% % %%%% %%%%%%%%%%%%%%%% %%% % %\n",
      "%xxxxxx   % %           %     %           %           %     %\n",
      "%%%%%%%%%%%%%%%%%%%%%%%%%%%%%%%%%%%%%%%%%%%%%%%%%%%%%%%%%%%%%\n",
      "%%%%%%%%%%%%%%%%%%%%%%%%%%%%%%%%%%%%%%%%%%%%%%%%%%%%%%%%%%%%%\n",
      "%     %xxxxxxx%xxxxxxxxxxxxx%         %     %           %   %\n",
      "%%% %%%x%%%%%x x%%%%% %%%%%x%%% %%%%%%% % %%% %%%%%%%%%%% %%%\n",
      "%   %xxx%    x%xxx% %   % %xxx%xxxxxxxx %          % % %    %\n",
      "% %%%x%%% %%%x%%%x% %%% % %%%x%x%%%%%%x%%%%% %%%%% % % %%%% %\n",
      "% %xxx% %   %x%  x%   % % % %x%x    % xxxxx  %   % % %      %\n",
      "%xxx%%% % % %x% %x% % %%% % %x%x%%% % %%%%x% %%% % % %% % % %\n",
      "%x%   %   % %x  %x  % %   % %xxx  % % %  %x%     % %  %%% % %\n",
      "%x%%%%%%% % %x%%%x%%% %%%   %%% %%% % % %%x%%%%% %%%% % % % %\n",
      "%x  %   % %  xxxxx% % %   % % %  %  % %  %x   %     %   % % %\n",
      "%x% %%% % %%%%%%%%% % % %%% % %  % %% %% %x%%%%%%%%%%% %%%% %\n",
      "%x%   % %   %xxxxxxx%%% %     %  %    %  %x     %           %\n",
      "%x% %%% %%%%%x%%%%%x  % %%%%%%%% %%% %%% %x%% %%% %%%%%%% % %\n",
      "%x%   %  xxxxx%xxxxx%   %        %     % %x %   %     %   % %\n",
      "%x%%%%%%%x%%%%%x%%%%% % %%%%% %%%%%%%%%% %x%%%%%% %%% %%% % %\n",
      "%x% %  xxx%xxxxx%   % %  xxxxxxxxx  %xxxx%xxx %   %     % % %\n",
      "%x  %%%x%%%x%%%%%%% %%%%%x%%%%%%%x%%%x%%x%%%x % %%% %%% %%% %\n",
      "%x%   %x  %xxxxxxx% %    x%      xxxxx %x  %xxxx%     %   % %\n",
      "%x%%%%%x% %%%%%%%x%%%%%%%x%%%%%%%% %%% %x%%%%%%x% % %%%%% % %\n",
      "%S%   xx%   %xxxxx%xxxxxxx%   %    %   %xxxxxxxx% % %   % % %\n",
      "%%%%%%x%% % %x%%%%%x%%%%% %%% % %%%% %%%%%%%%%%%%%%%% %%% % %\n",
      "%xxxxxx   % %xxxxxxx    %     %           %           %     %\n",
      "%%%%%%%%%%%%%%%%%%%%%%%%%%%%%%%%%%%%%%%%%%%%%%%%%%%%%%%%%%%%%\n",
      "Path found using Depth-First Search.\n",
      "Execution Time: 0.0006 seconds\n",
      "Cost: 0\n"
     ]
    }
   ],
   "source": [
    "\n",
    "# Define the main function to read the maze from a file and solve it using DFS\n",
    "def main():\n",
    "    global start, goal, visited, path  # Declare global variables\n",
    "    visited = set()  # Initialize the visited set\n",
    "    path = []  # Initialize the path list\n",
    "\n",
    "    maze_file = 'Maze1.txt'  # Replace with the path to your maze file\n",
    "    with open(maze_file, 'r') as file:\n",
    "        for line in file:\n",
    "            row = list(line.strip())\n",
    "            maze.append(row)\n",
    "            if 'S' in row:\n",
    "                start = (len(maze) - 1, row.index('S'))\n",
    "            if 'G' in row:\n",
    "                goal = (len(maze) - 1, row.index('G'))\n",
    "\n",
    "    # Solve the maze using Depth-First Search\n",
    "    start_time = time.time()\n",
    "    if depth_first_search(start):\n",
    "        end_time = time.time()\n",
    "        # Print the maze with the path marked by \"x\" characters\n",
    "        for x, y in path:\n",
    "            maze[x][y] = 'x'\n",
    "        for row in maze:\n",
    "            print(''.join(row))\n",
    "        print(f\"Path found using Depth-First Search.\")\n",
    "        print(f\"Execution Time: {end_time - start_time:.4f} seconds\")\n",
    "        print(f\"Cost: 0\")  # Cost is always 0 for DFS\n",
    "    else:\n",
    "        print(\"No path found.\")\n",
    "\n",
    "if __name__ == '__main__':\n",
    "    main()\n",
    "\n"
   ]
  },
  {
   "cell_type": "code",
   "execution_count": 10,
   "id": "4de98c8c",
   "metadata": {},
   "outputs": [],
   "source": [
    "# Read the maze from the maze2.txt file\n",
    "with open('maze2.txt', 'r') as file:\n",
    "    maze_lines = file.readlines()"
   ]
  },
  {
   "cell_type": "code",
   "execution_count": 11,
   "id": "a1794aa7",
   "metadata": {},
   "outputs": [],
   "source": [
    "maze = [list(line.strip()) for line in maze_lines]"
   ]
  },
  {
   "cell_type": "code",
   "execution_count": 12,
   "id": "a17653b6",
   "metadata": {},
   "outputs": [],
   "source": [
    "# Find the start and goal positions in the maze\n",
    "for i in range(len(maze)):\n",
    "    for j in range(len(maze[i])):\n",
    "        if maze[i][j] == 'S':\n",
    "            start_pos = (i, j)\n",
    "        elif maze[i][j] == 'G':\n",
    "            goal_pos = (i, j)"
   ]
  },
  {
   "cell_type": "code",
   "execution_count": 13,
   "id": "1fcea55e",
   "metadata": {},
   "outputs": [],
   "source": [
    "# Define the MazeProblem class\n",
    "class MazeProblem(Problem):\n",
    "    def __init__(self, initial, goal, maze):\n",
    "        self.maze = maze\n",
    "        super().__init__(initial, goal)\n",
    "\n",
    "    # Define the successor function\n",
    "    def successors(self, state):\n",
    "        x, y = state\n",
    "        actions = []\n",
    "        for dx, dy in [(1, 0), (-1, 0), (0, 1), (0, -1)]:\n",
    "            new_x, new_y = x + dx, y + dy\n",
    "            if 0 <= new_x < len(self.maze) and 0 <= new_y < len(self.maze[0]) and self.maze[new_x][new_y] != '%':\n",
    "                actions.append(((new_x, new_y), (new_x, new_y)))  # Each successor state is its own coordinate\n",
    "        return actions\n",
    "\n",
    "    # Define the h function (heuristic) for A* Search\n",
    "    def h(self, node):\n",
    "        return abs(node.state[0] - self.goal[0]) + abs(node.state[1] - self.goal[1])\n",
    "\n",
    "    # Define the actions method\n",
    "    def actions(self, state):\n",
    "        x, y = state\n",
    "        possible_actions = []\n",
    "        for dx, dy in [(1, 0), (-1, 0), (0, 1), (0, -1)]:\n",
    "            new_x, new_y = x + dx, y + dy\n",
    "            if 0 <= new_x < len(self.maze) and 0 <= new_y < len(self.maze[0]) and self.maze[new_x][new_y] != '%':\n",
    "                possible_actions.append((new_x, new_y))\n",
    "        return possible_actions\n",
    "\n",
    "    # Define the result method\n",
    "    def result(self, state, action):\n",
    "        return action"
   ]
  },
  {
   "cell_type": "code",
   "execution_count": 14,
   "id": "a187e161",
   "metadata": {},
   "outputs": [
    {
     "name": "stdout",
     "output_type": "stream",
     "text": [
      "DFS Path found.\n",
      "A* Search Path found.\n"
     ]
    }
   ],
   "source": [
    "# Create an instance of the MazeProblem\n",
    "maze_problem = MazeProblem(initial=start_pos, goal=goal_pos, maze=maze)\n",
    "\n",
    "# Solve the maze using DFS\n",
    "dfs_solution = depth_first_graph_search(maze_problem)\n",
    "\n",
    "# Solve the maze using A* search with the defined heuristic function\n",
    "astar_solution = astar_search(maze_problem)\n",
    "\n",
    "# Compare the solutions\n",
    "if dfs_solution:\n",
    "    print(\"DFS Path found.\")\n",
    "else:\n",
    "    print(\"DFS No path found.\")\n",
    "\n",
    "if astar_solution:\n",
    "    print(\"A* Search Path found.\")\n",
    "else:\n",
    "    print(\"A* Search No path found.\")"
   ]
  },
  {
   "cell_type": "code",
   "execution_count": 15,
   "id": "bf40a93e",
   "metadata": {},
   "outputs": [
    {
     "name": "stdout",
     "output_type": "stream",
     "text": [
      "Searcher                   MazeProblem          \n",
      "depth_first_graph_search   < 985/ 986/2170/(1, >\n",
      "astar_search               <1244/1245/2762/(1, >\n"
     ]
    }
   ],
   "source": [
    "# Compare the search algorithms\n",
    "searchers = [depth_first_graph_search, astar_search]\n",
    "problems = [maze_problem]  # Add more problems if needed\n",
    "\n",
    "header = ['Searcher'] + [problem.__class__.__name__ for problem in problems]\n",
    "compare_searchers(problems, header, searchers)"
   ]
  },
  {
   "cell_type": "code",
   "execution_count": null,
   "id": "7b8392d6",
   "metadata": {},
   "outputs": [],
   "source": []
  },
  {
   "cell_type": "code",
   "execution_count": null,
   "id": "d9973694",
   "metadata": {},
   "outputs": [],
   "source": []
  },
  {
   "cell_type": "code",
   "execution_count": null,
   "id": "6eac8ee1",
   "metadata": {},
   "outputs": [],
   "source": []
  }
 ],
 "metadata": {
  "kernelspec": {
   "display_name": "Python 3 (ipykernel)",
   "language": "python",
   "name": "python3"
  },
  "language_info": {
   "codemirror_mode": {
    "name": "ipython",
    "version": 3
   },
   "file_extension": ".py",
   "mimetype": "text/x-python",
   "name": "python",
   "nbconvert_exporter": "python",
   "pygments_lexer": "ipython3",
   "version": "3.9.12"
  }
 },
 "nbformat": 4,
 "nbformat_minor": 5
}
